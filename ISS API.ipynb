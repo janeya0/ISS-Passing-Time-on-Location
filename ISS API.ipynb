{
 "cells": [
  {
   "cell_type": "code",
   "execution_count": 60,
   "metadata": {},
   "outputs": [],
   "source": [
    "import requests\n",
    "from datetime import datetime\n",
    "import json\n",
    "\n",
    "def jprint(obj):\n",
    "    text = json.dumps(obj, sort_keys=True, indent=4)\n",
    "    print(text)\n",
    "    \n",
    "parameters = {\n",
    "    \"lat\":0,\n",
    "    \"lon\":0\n",
    "}"
   ]
  },
  {
   "cell_type": "code",
   "execution_count": 63,
   "metadata": {},
   "outputs": [
    {
     "name": "stdout",
     "output_type": "stream",
     "text": [
      "Enter latitude (range: -80-80): 60\n",
      "Enter longitude (range: -180-180): 88\n",
      "2020-09-05 14:53:13\n",
      "2020-09-05 16:28:04\n",
      "2020-09-05 18:03:58\n",
      "2020-09-05 19:40:21\n",
      "2020-09-05 21:17:56\n"
     ]
    }
   ],
   "source": [
    "parameters['lat'] = input(\"Enter latitude (range: -80-80): \")\n",
    "parameters['lon'] = input(\"Enter longitude (range: -180-180): \")\n",
    "\n",
    "response = requests.get(\"http://api.open-notify.org/iss-pass.json\", params=parameters)\n",
    "if response.status_code >=200 or response.status_code <400:\n",
    "    passingTimes = response.json()['response']\n",
    "    times = []\n",
    "    for d in passingTimes:\n",
    "        time = datetime.fromtimestamp(d['risetime'])\n",
    "        times.append(time)\n",
    "        print(time)\n",
    "else:\n",
    "    print(\"error\")\n",
    "\n"
   ]
  },
  {
   "cell_type": "code",
   "execution_count": 18,
   "metadata": {},
   "outputs": [],
   "source": []
  }
 ],
 "metadata": {
  "kernelspec": {
   "display_name": "Python 3",
   "language": "python",
   "name": "python3"
  },
  "language_info": {
   "codemirror_mode": {
    "name": "ipython",
    "version": 3
   },
   "file_extension": ".py",
   "mimetype": "text/x-python",
   "name": "python",
   "nbconvert_exporter": "python",
   "pygments_lexer": "ipython3",
   "version": "3.8.5"
  }
 },
 "nbformat": 4,
 "nbformat_minor": 4
}
